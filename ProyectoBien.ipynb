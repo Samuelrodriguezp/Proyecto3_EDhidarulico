{
 "cells": [
  {
   "cell_type": "markdown",
   "metadata": {},
   "source": [
    "<img style=\"float: left; margin: 30px 15px 15px 15px;\" src=\"https://encrypted-tbn0.gstatic.com/images?q=tbn:ANd9GcTFzQj91sOlkeDFkg5HDbjtR4QJYmLXkfMNig&usqp=CAU\" width=\"900\" height=\"800\" /> \n",
    "\n",
    "\n",
    "    \n",
    "### <font color='navy'> Simulación matemática. \n",
    "\n",
    "**Nombres:** \n",
    "    \n",
    "+ Maximiliano Hernández Aparicio | if738811 \n",
    "+ Gustavo de Anda Madrigal | if742126\n",
    "+ Samuel Rodríguez Partida | ic727594\n",
    "\n",
    "\n",
    "**Fecha:** 16 noviembre del 2022\n",
    "    \n",
    "**Profesor:** Oscar David Jaramillo Zuluaga.\n",
    "    \n",
    "**Link Github**: https://github.com/Samuelrodriguezp/Proyecto3_EDhidarulico\n"
   ]
  },
  {
   "cell_type": "markdown",
   "metadata": {},
   "source": [
    "\n",
    "> El presente trabajo presente ser un proyecto en el que los estudiantes que lo presentan muestren el dominio y la aplicación del tema principal último del módulo de la clase de simulación matemática\n",
    "\n",
    "### Objetivos.\n",
    "> #### Objetivo general.\n",
    "> - Elegir un modelo matemático de ecuaciones diferenciales que pueda ser simulado con las herramientas vistas en clase \n",
    "> - Entender qué son las ecuaciones diferenciales y por qué son tan importantes para poder describir fenómenos físicos\n",
    "> #### Objetivos específicos\n",
    ">  - Mediante gráficas, poder mostrar el funcionamiento del fenómeno para poderlo relacionar con su aplicación real\n",
    ">  - Determinar el tiempo en el que se vacía la cisterna respecto a la altura del agua \n"
   ]
  },
  {
   "cell_type": "markdown",
   "metadata": {},
   "source": [
    "### Modelo que representa el problema"
   ]
  },
  {
   "cell_type": "markdown",
   "metadata": {},
   "source": [
    "Supongamos que tenemos una cisterna de agua cúbica de 10 pies para uso departamental que se drena por un orificio circular An en el fondo. Se busca saber el tiempo en el que por el uso de los habitantes de los departamentos se vacía la cisterna.\n",
    "Al salir, la fricción y contracción reducen el volumen desalojado por segundo a $cA_h\\sqrt{2gh}$ siendo c una constante. Tenemos que determinar una ecuación diferencial para la altura h en función del tiempo. El radio del hoyo es de 4 pulgadas, $ g=32ft/s^2 $"
   ]
  },
  {
   "cell_type": "markdown",
   "metadata": {},
   "source": [
    "Sabemos que el volumen de un cubo es $ V = Awh $"
   ]
  },
  {
   "cell_type": "markdown",
   "metadata": {},
   "source": [
    "Ubicamos las variables y constantes, las variables de diferencia respecto al tiempo $\\frac{dv}{dt} = Aw\\frac{dh}{dt}$\n"
   ]
  },
  {
   "cell_type": "markdown",
   "metadata": {},
   "source": [
    "Despejamos respecto a lo que se pide: $\\frac{dh}{dt} = \\frac{dv}{dt} = \\frac{1}{Aw}$\n",
    "$\\rightarrow$\t$\\frac{dh}{dt} = \\frac{1}{Aw} = (-cAh\\sqrt{2gh})$ $\\rightarrow$ $\\frac{dh}{dt} = -\\frac{cAh}{Aw}\\sqrt{2gh}$\n"
   ]
  },
  {
   "cell_type": "markdown",
   "metadata": {},
   "source": [
    "Unidades\n",
    "- $4in = \\frac{4}{12}ft = \\frac{1}{3}ft$\n",
    "- $Ah = \\pi(\\frac{4}{12})^2 =Ah = \\pi(\\frac{1}{9}) $"
   ]
  },
  {
   "cell_type": "markdown",
   "metadata": {},
   "source": [
    "Sustituimos unidades:\n",
    "- $$\\frac{dh}{dt} = -\\frac{c(\\pi)(\\frac{1}{9})}{100}\\sqrt{2(32)h}$$\n",
    "- \n",
    "- $$\\frac{dh}{dt} = -\\frac{c\\pi}{900}*8\\sqrt{h}$$\n",
    "- \n",
    "- $$\\frac{dh}{dt} = -\\frac{2\\pi*c}{225}\\sqrt{h}$$\n"
   ]
  },
  {
   "cell_type": "markdown",
   "metadata": {},
   "source": [
    "#### Sobre el coeficiente de fricción\n",
    "\n",
    "Cuando se habla del agua y cómo fluye esta es necesario tener en cuenta la fricción de las moléculas entre sí. Esta fricción varía dependiendo de la viscosidad del fluido, el díametro de la sección por la que fluye y la misma velocidad del agua. Así surge el número de Reynolds, un factor adimensional que tomando en cuenta los aspectos anteriores permite clasificar los tipos de flujo en:\n",
    "\n",
    "- <2000 Flujo laminar \n",
    "- 2000<Re<4000 Flujo de transición\n",
    "- .>4000 Flujo turbulento\n",
    "\n",
    "Luego de haber obtenido el número de Reynolds para cada tipo de flujo, existen diferentes fórmulas que consideran otras variables para así obtener un coeficiente de fricción:\n",
    "\n",
    "$$f=\\frac{64}{Rey}$$\n",
    "$$\\frac{1}{\\sqrt{f}} = -2\\log({\\frac{\\frac{\\epsilon}{D}}{3.7}+\\frac{2.51}{Re\\sqrt{f}}})$$"
   ]
  },
  {
   "cell_type": "markdown",
   "metadata": {},
   "source": [
    "Supongamos entonces un flujo transitorio en tubería de material pvc hidráulico, con rugosidad .09 y rugosidad inversa 11.11"
   ]
  },
  {
   "cell_type": "markdown",
   "metadata": {},
   "source": [
    "## $$\\frac{dh}{dt} = \\frac{-2\\pi .92\n",
    "}{225} \\sqrt{h}$$"
   ]
  },
  {
   "cell_type": "markdown",
   "metadata": {},
   "source": [
    "### Simulación"
   ]
  },
  {
   "cell_type": "code",
   "execution_count": 1,
   "metadata": {},
   "outputs": [],
   "source": [
    "import matplotlib.pyplot as plt\n",
    "import numpy as np"
   ]
  },
  {
   "cell_type": "code",
   "execution_count": 2,
   "metadata": {},
   "outputs": [],
   "source": [
    "from scipy.integrate import odeint"
   ]
  },
  {
   "cell_type": "code",
   "execution_count": 39,
   "metadata": {},
   "outputs": [],
   "source": [
    "def agua(h,t,r):\n",
    "    return (-2*np.pi*c*np.sqrt(h))/225\n",
    "\n",
    "c= .92\n",
    "h0 = 10\n",
    "t = np.linspace(0,120)\n",
    "\n",
    "x = odeint(agua,h0,t,args=(c,))"
   ]
  },
  {
   "cell_type": "code",
   "execution_count": 40,
   "metadata": {
    "scrolled": true
   },
   "outputs": [
    {
     "data": {
      "image/png": "[encoded data removed]",
      "text/plain": [
       "<Figure size 576x432 with 1 Axes>"
      ]
     },
     "metadata": {
      "needs_background": "light"
     },
     "output_type": "display_data"
    }
   ],
   "source": [
    "plt.figure(figsize=(8,6))\n",
    "plt.plot(t,x)\n",
    "plt.xlabel('tiempo')\n",
    "plt.ylabel('altura')\n",
    "plt.grid()\n",
    "plt.show()"
   ]
  },
  {
   "cell_type": "code",
   "execution_count": 5,
   "metadata": {},
   "outputs": [],
   "source": [
    "#agregar litros que quedan por el tiempo \n",
    "#widget "
   ]
  },
  {
   "cell_type": "code",
   "execution_count": 26,
   "metadata": {},
   "outputs": [
    {
     "name": "stdout",
     "output_type": "stream",
     "text": [
      "Agregar altura: 4\n",
      "en la cisterna nos quedan 11324.0 litros\n",
      "te queda 40.0 % de agua, cuidado te queda poca agua\n"
     ]
    }
   ],
   "source": [
    "#El usuario ingresará los datos de largo, ancho y alto de la cisterna\n",
    "h= float(input('Agregar altura: '))\n",
    "\n",
    "#ancho inicial del agua dentro de la cisterna\n",
    "w = 10\n",
    "\n",
    "#largo inicial del agua dentro de la cisterna\n",
    "l = 10\n",
    "\n",
    "litros_restantes = (l * w * h)*28.31\n",
    "\n",
    "if h>10:\n",
    "    h= float(input('Agregar altura: '))\n",
    "elif h>= 5:\n",
    "    litros_restantes = (l * w * h)*28.31\n",
    "    print('en la cisterna nos quedan',litros_restantes,'litros')\n",
    "    print('te queda',(l*w*h)/10,'% de agua')\n",
    "else:\n",
    "    litros_restantes = (l * w * h)*28.31\n",
    "    print('en la cisterna nos quedan',litros_restantes,'litros')\n",
    "    print('te queda',(l*w*h)/10,'% de agua, cuidado te queda poca agua')    \n"
   ]
  },
  {
   "cell_type": "code",
   "execution_count": null,
   "metadata": {},
   "outputs": [],
   "source": []
  },
  {
   "cell_type": "markdown",
   "metadata": {},
   "source": [
    "### 1.6 Conclusiones.\n",
    "> Con un coeficiente de fricción de 0.92 la línea de descarga de nuestra cisterna presenta un comportamiento aparentemente lineal en los primeros 20 minutos\n",
    "\n",
    "> La importancia de las ecuaciones diferenciales en las matemáticas, y especialmente sus aplicaciones, se debe principalmente al hecho de que la investigación de muchos problemas que se presentan a diario en la ciencia y la tecnología, se pueden reducir a la solución de tales ecuaciones. Los cálculos que requiere en este caso determinar el tiempo en el que se vacía un recipiente basandonos en la altura del mismo se puede desarrollar mediante un modelo matemático para comprender mejor el fenómeno físico y todo esto depende de la solución de ecuaciones diferenciales \n",
    "### 1.7 Referencias.\n",
    "> Notas de la clase, Ecuaciones Diferenciales. (Abril 2022). Instituto Tecnológico y de Estudios Superiores de Occidente, ITESO. Tlaquepaque, Jalisco."
   ]
  },
  {
   "cell_type": "markdown",
   "metadata": {},
   "source": []
  }
 ],
 "metadata": {
  "kernelspec": {
   "display_name": "Python 3 (ipykernel)",
   "language": "python",
   "name": "python3"
  },
  "language_info": {
   "codemirror_mode": {
    "name": "ipython",
    "version": 3
   },
   "file_extension": ".py",
   "mimetype": "text/x-python",
   "name": "python",
   "nbconvert_exporter": "python",
   "pygments_lexer": "ipython3",
   "version": "3.9.12"
  }
 },
 "nbformat": 4,
 "nbformat_minor": 2
}
